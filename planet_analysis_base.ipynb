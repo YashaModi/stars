{
 "cells": [
  {
   "cell_type": "markdown",
   "metadata": {},
   "source": [
    "## Planetary Ensemble Prediction and Error Analysis\n",
    "\n",
    "This notebook uses the saved MLP ensemble models and the fitted StandardScaler to generate predictions for a specified time period and planet. It then calculates and visualizes the prediction errors."
   ]
  },
  {
   "cell_type": "code",
   "execution_count": 1,
   "metadata": {},
   "outputs": [
    {
     "name": "stdout",
     "output_type": "stream",
     "text": [
      "TensorFlow Version: <module 'tensorflow._api.v2.version' from '/Library/Frameworks/Python.framework/Versions/3.13/lib/python3.13/site-packages/tensorflow/_api/v2/version/__init__.py'>\n"
     ]
    }
   ],
   "source": [
    "# --- 1. SETUP AND IMPORTS ---\n",
    "import pandas as pd\n",
    "import numpy as np\n",
    "import matplotlib.pyplot as plt\n",
    "import tensorflow as tf\n",
    "from datetime import datetime, timedelta\n",
    "import os\n",
    "\n",
    "# Import your utility file (ensure stars_utils.py is in the same directory)\n",
    "import stars_utils\n",
    "\n",
    "print(f'TensorFlow Version: {tf.version}')"
   ]
  },
  {
   "cell_type": "code",
   "execution_count": 2,
   "metadata": {},
   "outputs": [
    {
     "name": "stdout",
     "output_type": "stream",
     "text": [
      "Configuration loaded. Target Planet: Mars\n"
     ]
    }
   ],
   "source": [
    "# --- 2. CONFIGURATION ---\n",
    "\n",
    "# Prediction Target and Timeframe\n",
    "TARGET_PLANET = 'mars' # Change this to 'jupiter', 'venus', etc. for analysis\n",
    "START_DATE = datetime(2025, 1, 1) # Start prediction after training data ends\n",
    "END_DATE = datetime(2035, 1, 1)\n",
    "TIME_STEP = timedelta(days=7) # Weekly data for prediction\n",
    "\n",
    "# Model and Scaler Locations\n",
    "MODEL_DIR = 'models' \n",
    "MODELS_LIS = ['mm0', 'mm1', 'mm2'] \n",
    "SCALER_FILEPATH = os.path.join(MODEL_DIR, 'feature_scaler.pkl') \n",
    "\n",
    "\n",
    "# Create model directory if it doesn't exist (useful for saving)\n",
    "os.makedirs(MODEL_DIR, exist_ok=True)\n",
    "print(f'Configuration loaded. Target Planet: {TARGET_PLANET.capitalize()}')"
   ]
  },
  {
   "cell_type": "code",
   "execution_count": 3,
   "metadata": {},
   "outputs": [
    {
     "name": "stdout",
     "output_type": "stream",
     "text": [
      "Loading assets...\n"
     ]
    },
    {
     "ename": "AttributeError",
     "evalue": "module 'stars_utils' has no attribute 'load_scaler'",
     "output_type": "error",
     "traceback": [
      "\u001b[31m---------------------------------------------------------------------------\u001b[39m",
      "\u001b[31mAttributeError\u001b[39m                            Traceback (most recent call last)",
      "\u001b[36mCell\u001b[39m\u001b[36m \u001b[39m\u001b[32mIn[3]\u001b[39m\u001b[32m, line 6\u001b[39m\n\u001b[32m      3\u001b[39m \u001b[38;5;28mprint\u001b[39m(\u001b[33m'\u001b[39m\u001b[33mLoading assets...\u001b[39m\u001b[33m'\u001b[39m)\n\u001b[32m      5\u001b[39m \u001b[38;5;66;03m# Load the fitted scaler object\u001b[39;00m\n\u001b[32m----> \u001b[39m\u001b[32m6\u001b[39m scaler = \u001b[43mstars_utils\u001b[49m\u001b[43m.\u001b[49m\u001b[43mload_scaler\u001b[49m(SCALER_FILEPATH)\n\u001b[32m      8\u001b[39m \u001b[38;5;28;01mif\u001b[39;00m scaler \u001b[38;5;129;01mis\u001b[39;00m \u001b[38;5;28;01mNone\u001b[39;00m:\n\u001b[32m      9\u001b[39m     \u001b[38;5;28;01mraise\u001b[39;00m \u001b[38;5;167;01mFileNotFoundError\u001b[39;00m(\u001b[33m'\u001b[39m\u001b[33mFATAL: Scaler not loaded. Run your training script first to save it!\u001b[39m\u001b[33m'\u001b[39m)\n",
      "\u001b[31mAttributeError\u001b[39m: module 'stars_utils' has no attribute 'load_scaler'"
     ]
    }
   ],
   "source": [
    "# --- 3. LOAD SCALER AND MODELS ---\n",
    "\n",
    "print('Loading assets...')\n",
    "\n",
    "# Load the fitted scaler object\n",
    "scaler = stars_utils.load_scaler(SCALER_FILEPATH)\n",
    "\n",
    "if scaler is None:\n",
    "    raise FileNotFoundError('FATAL: Scaler not loaded. Run your training script first to save it!')\n",
    "\n",
    "# Load the ensemble models\n",
    "ensemble_models = stars_utils.models_loader(MODEL_DIR, MODELS_LIS)\n",
    "\n",
    "if not ensemble_models:\n",
    "    raise ValueError('FATAL: Failed to load any models. Check MODEL_DIR and MODELS_LIS.')\n",
    "\n",
    "print(f'Successfully loaded {len(ensemble_models)} models and the feature scaler.')"
   ]
  },
  {
   "cell_type": "code",
   "execution_count": null,
   "metadata": {},
   "outputs": [],
   "source": [
    "# --- 4. GENERATE GROUND TRUTH AND PREPARE INPUT ---\n",
    "\n",
    "print(f'Generating ground truth data for {TARGET_PLANET.capitalize()}...')\n",
    "\n",
    "# Generate the Ground Truth data (actual positions)\n",
    "df_planet = stars_utils.generate_planetary_ephemeris_df(\n",
    "    target_planet=TARGET_PLANET, \n",
    "    start_date=START_DATE, \n",
    "    end_date=END_DATE, \n",
    "    time_step=TIME_STEP\n",
    ")\n",
    "\n",
    "# Extract the feature (Julian Date)\n",
    "X_predict = df_planet[['Julian_Date']]\n",
    "\n",
    "# Use the loaded scaler to TRANSFORM the prediction data\n",
    "X_predict_scaled = scaler.transform(X_predict)\n",
    "\n",
    "print(f'Data generated and scaled. Ready for prediction over {len(df_planet)} steps.')"
   ]
  },
  {
   "cell_type": "code",
   "execution_count": null,
   "metadata": {},
   "outputs": [],
   "source": [
    "# --- 5. GENERATE ENSEMBLE PREDICTIONS ---\n",
    "\n",
    "print('Generating Ensemble Predictions...')\n",
    "y_pred_list = []\n",
    "\n",
    "for i, model in enumerate(ensemble_models):\n",
    "    # Predict the RA, Dec, Distance (3 targets)\n",
    "    y_pred = model.predict(X_predict_scaled, verbose=0) # Suppress prediction output\n",
    "    y_pred_list.append(y_pred)\n",
    "\n",
    "# Ensemble prediction is the simple average of all model outputs\n",
    "y_ensemble_pred_au = np.mean(y_pred_list, axis=0)\n",
    "\n",
    "# --- 6. AUGMENT DATAFRAME WITH RESULTS ---\n",
    "\n",
    "# Add Prediction columns\n",
    "df_planet['RA_pred'] = y_ensemble_pred_au[:, 0]\n",
    "df_planet['Dec_pred'] = y_ensemble_pred_au[:, 1]\n",
    "df_planet['Distance_pred'] = y_ensemble_pred_au[:, 2]\n",
    "\n",
    "# Add Residual (Error) columns: Actual - Predicted\n",
    "df_planet['RA_Error'] = df_planet['RA_deg'] - df_planet['RA_pred']\n",
    "df_planet['Dec_Error'] = df_planet['Dec_deg'] - df_planet['Dec_pred']\n",
    "df_planet['Distance_Error'] = df_planet['Distance_AU'] - df_planet['Distance_pred']\n",
    "\n",
    "print('Prediction complete. DataFrame augmented with prediction results.')"
   ]
  },
  {
   "cell_type": "code",
   "execution_count": null,
   "metadata": {},
   "outputs": [],
   "source": [
    "# --- 7. ANALYSIS: ERROR SUMMARY ---\n",
    "\n",
    "print('--- Error Summary ---')\n",
    "print(f'Prediction Period: {START_DATE.year} to {END_DATE.year}')\n",
    "\n",
    "# Calculate RMSE for the entire prediction period\n",
    "rmse_ra = np.sqrt(np.mean(df_planet['RA_Error']**2))\n",
    "rmse_dec = np.sqrt(np.mean(df_planet['Dec_Error']**2))\n",
    "rmse_dist = np.sqrt(np.mean(df_planet['Distance_Error']**2))\n",
    "overall_rmse = np.mean([rmse_ra, rmse_dec, rmse_dist])\n",
    "\n",
    "print(f'Ensemble RMSE (RA): {rmse_ra:.6f} degrees')\n",
    "print(f'Ensemble RMSE (Dec): {rmse_dec:.6f} degrees')\n",
    "print(f'Ensemble RMSE (Distance): {rmse_dist:.6f} AU')\n",
    "print(f'Overall Average RMSE: {overall_rmse:.6f}')\n",
    "\n",
    "print('--- DataFrame Head (Actual vs. Predicted) ---')\n",
    "df_planet[['Time_UTC', 'RA_deg', 'RA_pred', 'RA_Error', 'Distance_AU', 'Distance_pred']].head()"
   ]
  },
  {
   "cell_type": "code",
   "execution_count": null,
   "metadata": {},
   "outputs": [],
   "source": [
    "# --- 8. ANALYSIS: VISUALIZING ERROR OVER TIME ---\n",
    "\n",
    "plt.figure(figsize=(14, 6))\n",
    "\n",
    "plt.plot(df_planet['Time_UTC'], df_planet['RA_Error'] * 3600, label='RA Error (arcseconds)') # Convert degrees to arcseconds\n",
    "\n",
    "plt.title(f'{TARGET_PLANET.capitalize()} Right Ascension Prediction Error Over Time')\n",
    "plt.xlabel('Date')\n",
    "plt.ylabel('RA Error (Arcseconds)')\n",
    "plt.grid(True)\n",
    "plt.legend()\n",
    "plt.show()\n",
    "\n",
    "plt.figure(figsize=(14, 6))\n",
    "\n",
    "plt.plot(df_planet['Time_UTC'], df_planet['Distance_Error'] * 1e6, label='Distance Error (Millionths of AU)') # Convert AU to Micro-AU\n",
    "\n",
    "plt.title(f'{TARGET_PLANET.capitalize()} Distance Prediction Error Over Time')\n",
    "plt.xlabel('Date')\n",
    "plt.ylabel('Distance Error (μAU)')\n",
    "plt.grid(True)\n",
    "plt.legend()\n",
    "plt.show()"
   ]
  }
 ],
 "metadata": {
  "kernelspec": {
   "display_name": "Python 3",
   "language": "python",
   "name": "python3"
  },
  "language_info": {
   "codemirror_mode": {
    "name": "ipython",
    "version": 3
   },
   "file_extension": ".py",
   "mimetype": "text/x-python",
   "name": "python",
   "nbconvert_exporter": "python",
   "pygments_lexer": "ipython3",
   "version": "3.13.2"
  }
 },
 "nbformat": 4,
 "nbformat_minor": 5
}
